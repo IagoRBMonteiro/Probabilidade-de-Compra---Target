{
 "cells": [
  {
   "cell_type": "markdown",
   "id": "d540e784",
   "metadata": {},
   "source": [
    "# Probabilidade de Compra - Target\n",
    "\n",
    "### Neste exemplo, vamos demonstrar como identificar a probabilidade de um cliente em potencial realizar uma compra, usando de exemplo a empresa Target, que ficou conhecida por prever a gravidez de suas clientes. \n",
    "\n",
    "##### Analisaremos os cliques do usuário em links durante a navegação na web para estimar essa chance de compra. Com base nesse nível de interesse, decidiremos se vale a pena entrar em contato com o cliente, por exemplo, enviando um anúncio nas redes sociais oferecendo 10% de desconto no produto."
   ]
  },
  {
   "cell_type": "code",
   "execution_count": 30,
   "id": "55d61a5e",
   "metadata": {
    "scrolled": true
   },
   "outputs": [],
   "source": [
    "import pandas as pd\n",
    "import numpy as np\n",
    "import os\n",
    "import matplotlib.pylab as plt\n",
    "import sklearn.metrics\n",
    "import sklearn.model_selection\n",
    "import sklearn.tree\n",
    "import sklearn.metrics\n",
    "from sklearn.model_selection import train_test_split\n",
    "from sklearn.metrics import accuracy_score"
   ]
  },
  {
   "cell_type": "code",
   "execution_count": 11,
   "id": "bb0e8783",
   "metadata": {},
   "outputs": [
    {
     "data": {
      "text/plain": [
       "SESSAO_ID           object\n",
       "clique_img           int64\n",
       "ler_avaliacao        int64\n",
       "ver_categoria        int64\n",
       "ler_detalhes         int64\n",
       "ver_video            int64\n",
       "adicionar_lista      int64\n",
       "comparar_produto     int64\n",
       "ver_similar          int64\n",
       "favoritar            int64\n",
       "personalizar         int64\n",
       "comprar              int64\n",
       "dtype: object"
      ]
     },
     "execution_count": 11,
     "metadata": {},
     "output_type": "execute_result"
    }
   ],
   "source": [
    "db = pd.read_csv(r\"C:\\Users\\Washington\\Documents\\Iago M\\Probabilidade De Compra - Target\\target_app_usuarios_v2.csv\")\n",
    "\n",
    "db.dtypes"
   ]
  },
  {
   "cell_type": "code",
   "execution_count": 12,
   "id": "84cb8fa3",
   "metadata": {},
   "outputs": [
    {
     "data": {
      "text/html": [
       "<div>\n",
       "<style scoped>\n",
       "    .dataframe tbody tr th:only-of-type {\n",
       "        vertical-align: middle;\n",
       "    }\n",
       "\n",
       "    .dataframe tbody tr th {\n",
       "        vertical-align: top;\n",
       "    }\n",
       "\n",
       "    .dataframe thead th {\n",
       "        text-align: right;\n",
       "    }\n",
       "</style>\n",
       "<table border=\"1\" class=\"dataframe\">\n",
       "  <thead>\n",
       "    <tr style=\"text-align: right;\">\n",
       "      <th></th>\n",
       "      <th>SESSAO_ID</th>\n",
       "      <th>clique_img</th>\n",
       "      <th>ler_avaliacao</th>\n",
       "      <th>ver_categoria</th>\n",
       "      <th>ler_detalhes</th>\n",
       "      <th>ver_video</th>\n",
       "      <th>adicionar_lista</th>\n",
       "      <th>comparar_produto</th>\n",
       "      <th>ver_similar</th>\n",
       "      <th>favoritar</th>\n",
       "      <th>personalizar</th>\n",
       "      <th>comprar</th>\n",
       "    </tr>\n",
       "  </thead>\n",
       "  <tbody>\n",
       "    <tr>\n",
       "      <th>0</th>\n",
       "      <td>sessao_1</td>\n",
       "      <td>0</td>\n",
       "      <td>0</td>\n",
       "      <td>0</td>\n",
       "      <td>0</td>\n",
       "      <td>0</td>\n",
       "      <td>1</td>\n",
       "      <td>0</td>\n",
       "      <td>0</td>\n",
       "      <td>0</td>\n",
       "      <td>0</td>\n",
       "      <td>0</td>\n",
       "    </tr>\n",
       "    <tr>\n",
       "      <th>1</th>\n",
       "      <td>sessao_2</td>\n",
       "      <td>1</td>\n",
       "      <td>0</td>\n",
       "      <td>1</td>\n",
       "      <td>0</td>\n",
       "      <td>0</td>\n",
       "      <td>1</td>\n",
       "      <td>1</td>\n",
       "      <td>1</td>\n",
       "      <td>1</td>\n",
       "      <td>0</td>\n",
       "      <td>1</td>\n",
       "    </tr>\n",
       "    <tr>\n",
       "      <th>2</th>\n",
       "      <td>sessao_3</td>\n",
       "      <td>1</td>\n",
       "      <td>0</td>\n",
       "      <td>1</td>\n",
       "      <td>0</td>\n",
       "      <td>1</td>\n",
       "      <td>0</td>\n",
       "      <td>0</td>\n",
       "      <td>1</td>\n",
       "      <td>0</td>\n",
       "      <td>0</td>\n",
       "      <td>0</td>\n",
       "    </tr>\n",
       "    <tr>\n",
       "      <th>3</th>\n",
       "      <td>sessao_4</td>\n",
       "      <td>0</td>\n",
       "      <td>1</td>\n",
       "      <td>1</td>\n",
       "      <td>0</td>\n",
       "      <td>0</td>\n",
       "      <td>1</td>\n",
       "      <td>0</td>\n",
       "      <td>0</td>\n",
       "      <td>0</td>\n",
       "      <td>0</td>\n",
       "      <td>1</td>\n",
       "    </tr>\n",
       "    <tr>\n",
       "      <th>4</th>\n",
       "      <td>sessao_5</td>\n",
       "      <td>0</td>\n",
       "      <td>0</td>\n",
       "      <td>1</td>\n",
       "      <td>0</td>\n",
       "      <td>0</td>\n",
       "      <td>0</td>\n",
       "      <td>0</td>\n",
       "      <td>1</td>\n",
       "      <td>0</td>\n",
       "      <td>0</td>\n",
       "      <td>1</td>\n",
       "    </tr>\n",
       "  </tbody>\n",
       "</table>\n",
       "</div>"
      ],
      "text/plain": [
       "  SESSAO_ID  clique_img  ler_avaliacao  ver_categoria  ler_detalhes  \\\n",
       "0  sessao_1           0              0              0             0   \n",
       "1  sessao_2           1              0              1             0   \n",
       "2  sessao_3           1              0              1             0   \n",
       "3  sessao_4           0              1              1             0   \n",
       "4  sessao_5           0              0              1             0   \n",
       "\n",
       "   ver_video  adicionar_lista  comparar_produto  ver_similar  favoritar  \\\n",
       "0          0                1                 0            0          0   \n",
       "1          0                1                 1            1          1   \n",
       "2          1                0                 0            1          0   \n",
       "3          0                1                 0            0          0   \n",
       "4          0                0                 0            1          0   \n",
       "\n",
       "   personalizar  comprar  \n",
       "0             0        0  \n",
       "1             0        1  \n",
       "2             0        0  \n",
       "3             0        1  \n",
       "4             0        1  "
      ]
     },
     "execution_count": 12,
     "metadata": {},
     "output_type": "execute_result"
    }
   ],
   "source": [
    "db.head()"
   ]
  },
  {
   "cell_type": "markdown",
   "id": "7d42f15f",
   "metadata": {},
   "source": [
    "### Estatística Resumida"
   ]
  },
  {
   "cell_type": "code",
   "execution_count": 13,
   "id": "f4ae2393",
   "metadata": {},
   "outputs": [
    {
     "data": {
      "text/html": [
       "<div>\n",
       "<style scoped>\n",
       "    .dataframe tbody tr th:only-of-type {\n",
       "        vertical-align: middle;\n",
       "    }\n",
       "\n",
       "    .dataframe tbody tr th {\n",
       "        vertical-align: top;\n",
       "    }\n",
       "\n",
       "    .dataframe thead th {\n",
       "        text-align: right;\n",
       "    }\n",
       "</style>\n",
       "<table border=\"1\" class=\"dataframe\">\n",
       "  <thead>\n",
       "    <tr style=\"text-align: right;\">\n",
       "      <th></th>\n",
       "      <th>clique_img</th>\n",
       "      <th>ler_avaliacao</th>\n",
       "      <th>ver_categoria</th>\n",
       "      <th>ler_detalhes</th>\n",
       "      <th>ver_video</th>\n",
       "      <th>adicionar_lista</th>\n",
       "      <th>comparar_produto</th>\n",
       "      <th>ver_similar</th>\n",
       "      <th>favoritar</th>\n",
       "      <th>personalizar</th>\n",
       "      <th>comprar</th>\n",
       "    </tr>\n",
       "  </thead>\n",
       "  <tbody>\n",
       "    <tr>\n",
       "      <th>count</th>\n",
       "      <td>500.000000</td>\n",
       "      <td>500.000000</td>\n",
       "      <td>500.000000</td>\n",
       "      <td>500.000000</td>\n",
       "      <td>500.000000</td>\n",
       "      <td>500.000000</td>\n",
       "      <td>500.000000</td>\n",
       "      <td>500.000000</td>\n",
       "      <td>500.000000</td>\n",
       "      <td>500.000000</td>\n",
       "      <td>500.000000</td>\n",
       "    </tr>\n",
       "    <tr>\n",
       "      <th>mean</th>\n",
       "      <td>0.414000</td>\n",
       "      <td>0.268000</td>\n",
       "      <td>0.524000</td>\n",
       "      <td>0.408000</td>\n",
       "      <td>0.202000</td>\n",
       "      <td>0.274000</td>\n",
       "      <td>0.280000</td>\n",
       "      <td>0.330000</td>\n",
       "      <td>0.174000</td>\n",
       "      <td>0.160000</td>\n",
       "      <td>0.608000</td>\n",
       "    </tr>\n",
       "    <tr>\n",
       "      <th>std</th>\n",
       "      <td>0.493042</td>\n",
       "      <td>0.443361</td>\n",
       "      <td>0.499924</td>\n",
       "      <td>0.491955</td>\n",
       "      <td>0.401894</td>\n",
       "      <td>0.446456</td>\n",
       "      <td>0.449449</td>\n",
       "      <td>0.470684</td>\n",
       "      <td>0.379489</td>\n",
       "      <td>0.366973</td>\n",
       "      <td>0.488686</td>\n",
       "    </tr>\n",
       "    <tr>\n",
       "      <th>min</th>\n",
       "      <td>0.000000</td>\n",
       "      <td>0.000000</td>\n",
       "      <td>0.000000</td>\n",
       "      <td>0.000000</td>\n",
       "      <td>0.000000</td>\n",
       "      <td>0.000000</td>\n",
       "      <td>0.000000</td>\n",
       "      <td>0.000000</td>\n",
       "      <td>0.000000</td>\n",
       "      <td>0.000000</td>\n",
       "      <td>0.000000</td>\n",
       "    </tr>\n",
       "    <tr>\n",
       "      <th>25%</th>\n",
       "      <td>0.000000</td>\n",
       "      <td>0.000000</td>\n",
       "      <td>0.000000</td>\n",
       "      <td>0.000000</td>\n",
       "      <td>0.000000</td>\n",
       "      <td>0.000000</td>\n",
       "      <td>0.000000</td>\n",
       "      <td>0.000000</td>\n",
       "      <td>0.000000</td>\n",
       "      <td>0.000000</td>\n",
       "      <td>0.000000</td>\n",
       "    </tr>\n",
       "    <tr>\n",
       "      <th>50%</th>\n",
       "      <td>0.000000</td>\n",
       "      <td>0.000000</td>\n",
       "      <td>1.000000</td>\n",
       "      <td>0.000000</td>\n",
       "      <td>0.000000</td>\n",
       "      <td>0.000000</td>\n",
       "      <td>0.000000</td>\n",
       "      <td>0.000000</td>\n",
       "      <td>0.000000</td>\n",
       "      <td>0.000000</td>\n",
       "      <td>1.000000</td>\n",
       "    </tr>\n",
       "    <tr>\n",
       "      <th>75%</th>\n",
       "      <td>1.000000</td>\n",
       "      <td>1.000000</td>\n",
       "      <td>1.000000</td>\n",
       "      <td>1.000000</td>\n",
       "      <td>0.000000</td>\n",
       "      <td>1.000000</td>\n",
       "      <td>1.000000</td>\n",
       "      <td>1.000000</td>\n",
       "      <td>0.000000</td>\n",
       "      <td>0.000000</td>\n",
       "      <td>1.000000</td>\n",
       "    </tr>\n",
       "    <tr>\n",
       "      <th>max</th>\n",
       "      <td>1.000000</td>\n",
       "      <td>1.000000</td>\n",
       "      <td>1.000000</td>\n",
       "      <td>1.000000</td>\n",
       "      <td>1.000000</td>\n",
       "      <td>1.000000</td>\n",
       "      <td>1.000000</td>\n",
       "      <td>1.000000</td>\n",
       "      <td>1.000000</td>\n",
       "      <td>1.000000</td>\n",
       "      <td>1.000000</td>\n",
       "    </tr>\n",
       "  </tbody>\n",
       "</table>\n",
       "</div>"
      ],
      "text/plain": [
       "       clique_img  ler_avaliacao  ver_categoria  ler_detalhes   ver_video  \\\n",
       "count  500.000000     500.000000     500.000000    500.000000  500.000000   \n",
       "mean     0.414000       0.268000       0.524000      0.408000    0.202000   \n",
       "std      0.493042       0.443361       0.499924      0.491955    0.401894   \n",
       "min      0.000000       0.000000       0.000000      0.000000    0.000000   \n",
       "25%      0.000000       0.000000       0.000000      0.000000    0.000000   \n",
       "50%      0.000000       0.000000       1.000000      0.000000    0.000000   \n",
       "75%      1.000000       1.000000       1.000000      1.000000    0.000000   \n",
       "max      1.000000       1.000000       1.000000      1.000000    1.000000   \n",
       "\n",
       "       adicionar_lista  comparar_produto  ver_similar   favoritar  \\\n",
       "count       500.000000        500.000000   500.000000  500.000000   \n",
       "mean          0.274000          0.280000     0.330000    0.174000   \n",
       "std           0.446456          0.449449     0.470684    0.379489   \n",
       "min           0.000000          0.000000     0.000000    0.000000   \n",
       "25%           0.000000          0.000000     0.000000    0.000000   \n",
       "50%           0.000000          0.000000     0.000000    0.000000   \n",
       "75%           1.000000          1.000000     1.000000    0.000000   \n",
       "max           1.000000          1.000000     1.000000    1.000000   \n",
       "\n",
       "       personalizar     comprar  \n",
       "count    500.000000  500.000000  \n",
       "mean       0.160000    0.608000  \n",
       "std        0.366973    0.488686  \n",
       "min        0.000000    0.000000  \n",
       "25%        0.000000    0.000000  \n",
       "50%        0.000000    1.000000  \n",
       "75%        0.000000    1.000000  \n",
       "max        1.000000    1.000000  "
      ]
     },
     "execution_count": 13,
     "metadata": {},
     "output_type": "execute_result"
    }
   ],
   "source": [
    "db.describe()"
   ]
  },
  {
   "cell_type": "markdown",
   "id": "b4f3938d",
   "metadata": {},
   "source": [
    "### Analisando Correlação"
   ]
  },
  {
   "cell_type": "code",
   "execution_count": 15,
   "id": "8be66813",
   "metadata": {},
   "outputs": [
    {
     "name": "stdout",
     "output_type": "stream",
     "text": [
      "clique_img           13.43%\n",
      "ler_avaliacao         9.74%\n",
      "ver_categoria        10.42%\n",
      "ler_detalhes          9.14%\n",
      "ver_video             9.79%\n",
      "adicionar_lista      16.26%\n",
      "comparar_produto     19.96%\n",
      "ver_similar          11.92%\n",
      "favoritar            24.97%\n",
      "personalizar         14.93%\n",
      "comprar             100.00%\n",
      "Name: comprar, dtype: object\n"
     ]
    }
   ],
   "source": [
    "corr = db.corr()['comprar'] * 100\n",
    "corr_formatado = corr.apply(lambda x: f\"{x:.2f}%\")\n",
    "print(corr_formatado)"
   ]
  },
  {
   "cell_type": "markdown",
   "id": "4376631c",
   "metadata": {},
   "source": [
    "### Dividindo Métricas para Treinamento e Teste do Modelo"
   ]
  },
  {
   "cell_type": "code",
   "execution_count": 26,
   "id": "bb25e32f",
   "metadata": {},
   "outputs": [],
   "source": [
    "secundarias = db[['clique_img', 'ver_categoria', 'adicionar_lista', 'comparar_produto', 'ver_similar', 'favoritar', 'personalizar']]\n",
    "principal = db.comprar"
   ]
  },
  {
   "cell_type": "code",
   "execution_count": 27,
   "id": "7f5d900d",
   "metadata": {},
   "outputs": [
    {
     "name": "stdout",
     "output_type": "stream",
     "text": [
      "Métrica – Treinamento :  (350, 7) Métrica – Teste :  (150, 7)\n"
     ]
    }
   ],
   "source": [
    "sec_treino, sec_teste, prin_treino, prin_teste = train_test_split(secundarias, principal, test_size=0.3)\n",
    "\n",
    "print(\"Métrica – Treinamento : \", sec_treino.shape, \"Métrica – Teste : \", sec_teste.shape)"
   ]
  },
  {
   "cell_type": "markdown",
   "id": "b1bd6981",
   "metadata": {},
   "source": [
    "### Construindo Modelo e Conferindo Precisão"
   ]
  },
  {
   "cell_type": "code",
   "execution_count": 28,
   "id": "02b6528f",
   "metadata": {},
   "outputs": [
    {
     "data": {
      "text/plain": [
       "array([[43, 15],\n",
       "       [37, 55]], dtype=int64)"
      ]
     },
     "execution_count": 28,
     "metadata": {},
     "output_type": "execute_result"
    }
   ],
   "source": [
    "from sklearn.naive_bayes import GaussianNB\n",
    "\n",
    "classificador = GaussianNB()\n",
    "classificador = classificador.fit(sec_treino, prin_treino)\n",
    "\n",
    "previsao = classificador.predict(sec_teste)\n",
    "\n",
    "# Análise de precisão da previsão\n",
    "sklearn.metrics.confusion_matrix(prin_teste, previsao) \n"
   ]
  },
  {
   "cell_type": "code",
   "execution_count": 33,
   "id": "55fba3a4",
   "metadata": {},
   "outputs": [
    {
     "name": "stdout",
     "output_type": "stream",
     "text": [
      "Acurácia do modelo: 65.33%\n"
     ]
    }
   ],
   "source": [
    "accuracy = accuracy_score(prin_teste, previsao)\n",
    "print(f\"Acurácia do modelo: {accuracy:.2%}\")"
   ]
  },
  {
   "cell_type": "markdown",
   "id": "436dd071",
   "metadata": {},
   "source": [
    "### Qual a chance de cada usuário?"
   ]
  },
  {
   "cell_type": "code",
   "execution_count": 36,
   "id": "67c90f8a",
   "metadata": {},
   "outputs": [
    {
     "name": "stdout",
     "output_type": "stream",
     "text": [
      "0.85\n"
     ]
    }
   ],
   "source": [
    "pred_prob = (classificador.predict_proba(sec_teste))\n",
    "pred_prob[0, 1]\n",
    "\n",
    "print(f\"{pred_prob[0, 1]:.2f}\")"
   ]
  },
  {
   "cell_type": "markdown",
   "id": "5ad0ba32",
   "metadata": {},
   "source": [
    "### Previsões em tempo real\n",
    "\n",
    "Agora que o modelo foi construído, vamos usá-lo para previsões em tempo real. Assim, quando o cliente começa a visitar as páginas uma por uma, coletamos essa lista e a usamos para calcular a probabilidade. Fazemos isso para cada novo clique que chega."
   ]
  },
  {
   "cell_type": "code",
   "execution_count": 39,
   "id": "4d47fda5",
   "metadata": {},
   "outputs": [
    {
     "name": "stdout",
     "output_type": "stream",
     "text": [
      "Propensão do Novo Usuário: 9.03%\n"
     ]
    },
    {
     "name": "stderr",
     "output_type": "stream",
     "text": [
      "C:\\Users\\Washington\\anaconda3\\lib\\site-packages\\sklearn\\base.py:450: UserWarning: X does not have valid feature names, but GaussianNB was fitted with feature names\n",
      "  warnings.warn(\n"
     ]
    }
   ],
   "source": [
    "dado_navegando = np.array([0,0,0,0,0,0,0]).reshape(1, -1)\n",
    "\n",
    "probabilidade = classificador.predict_proba(dado_navegando)[:, 1][0]\n",
    "print(f\"Propensão do Novo Usuário: {probabilidade:.2%}\")"
   ]
  },
  {
   "cell_type": "markdown",
   "id": "3868e133",
   "metadata": {},
   "source": [
    "Isso quer dizer que o usuário tem uma probabilidade inicial de 9%, agora vamosver a probabilidade se ele apenas adicionar a lista:"
   ]
  },
  {
   "cell_type": "code",
   "execution_count": 47,
   "id": "b84d63cf",
   "metadata": {},
   "outputs": [
    {
     "name": "stdout",
     "output_type": "stream",
     "text": [
      "Propensão do Novo Usuário: 26.67%\n"
     ]
    },
    {
     "name": "stderr",
     "output_type": "stream",
     "text": [
      "C:\\Users\\Washington\\anaconda3\\lib\\site-packages\\sklearn\\base.py:450: UserWarning: X does not have valid feature names, but GaussianNB was fitted with feature names\n",
      "  warnings.warn(\n"
     ]
    }
   ],
   "source": [
    "dado_navegando = np.array([0,0,1,0,0,0,0]).reshape(1, -1)\n",
    "\n",
    "probabilidade = classificador.predict_proba(dado_navegando)[:, 1][0]\n",
    "print(f\"Propensão do Novo Usuário: {probabilidade:.2%}\")"
   ]
  },
  {
   "cell_type": "markdown",
   "id": "db582f30",
   "metadata": {},
   "source": [
    "### Agora sim, conseguimos calcular a Probabilidade de cada usuário no final da sua sessão."
   ]
  }
 ],
 "metadata": {
  "kernelspec": {
   "display_name": "Python 3 (ipykernel)",
   "language": "python",
   "name": "python3"
  },
  "language_info": {
   "codemirror_mode": {
    "name": "ipython",
    "version": 3
   },
   "file_extension": ".py",
   "mimetype": "text/x-python",
   "name": "python",
   "nbconvert_exporter": "python",
   "pygments_lexer": "ipython3",
   "version": "3.9.13"
  }
 },
 "nbformat": 4,
 "nbformat_minor": 5
}
